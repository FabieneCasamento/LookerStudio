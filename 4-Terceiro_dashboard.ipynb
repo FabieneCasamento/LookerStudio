{
 "cells": [
  {
   "cell_type": "markdown",
   "id": "5941f6da-6c95-4735-910a-b7723a0fcb67",
   "metadata": {},
   "source": [
    "\n",
    "## Visão Geral de Valor e Quantidade de Entregas.\n",
    "\n",
    "Link de visualização do trabalho:\n",
    "\n",
    "https://lookerstudio.google.com/reporting/f1183a3e-507e-4923-9e10-9eced943c661/page/QLfgE\n",
    "\n",
    "Scripts bases para condições e outras análises no Lookerstudio\n",
    "\n",
    "\n"
   ]
  },
  {
   "cell_type": "code",
   "execution_count": 4,
   "id": "df717a1c-5d41-472a-b549-843752ecd081",
   "metadata": {},
   "outputs": [
    {
     "name": "stdout",
     "output_type": "stream",
     "text": [
      "\n",
      "case\n",
      "    when Mes_selecao =1 then 'Janeiro'\n",
      "    when Mes_selecao = 2 then 'Fevereiro'\n",
      "    when Mes_selecao =3 then 'Março'\n",
      "    when Mes_selecao =4 then 'Abril'\n",
      "    when Mes_selecao =5 then 'Maio'\n",
      "    when Mes_selecao =6 then 'Junho'\n",
      "    when Mes_selecao =7 then 'Julho'\n",
      "    when Mes_selecao =8 then 'Agosto'\n",
      "    when Mes_selecao =9 then 'Setembro'\n",
      "    when Mes_selecao =10 then 'Outubro'\n",
      "    when Mes_selecao =11 then 'Novembro'\n",
      "    when Mes_selecao =12 then 'Dezembro'\n",
      "end\n",
      "\n"
     ]
    }
   ],
   "source": [
    "codigo_caso_lookstudio=\"\"\"\n",
    "case\n",
    "    when Mes_selecao =1 then 'Janeiro'\n",
    "    when Mes_selecao = 2 then 'Fevereiro'\n",
    "    when Mes_selecao =3 then 'Março'\n",
    "    when Mes_selecao =4 then 'Abril'\n",
    "    when Mes_selecao =5 then 'Maio'\n",
    "    when Mes_selecao =6 then 'Junho'\n",
    "    when Mes_selecao =7 then 'Julho'\n",
    "    when Mes_selecao =8 then 'Agosto'\n",
    "    when Mes_selecao =9 then 'Setembro'\n",
    "    when Mes_selecao =10 then 'Outubro'\n",
    "    when Mes_selecao =11 then 'Novembro'\n",
    "    when Mes_selecao =12 then 'Dezembro'\n",
    "end\n",
    "\"\"\"\n",
    "\n",
    "print(codigo_caso_lookstudio)"
   ]
  },
  {
   "cell_type": "markdown",
   "id": "4a39359c-cdf8-48d7-9464-13f687f6bb26",
   "metadata": {},
   "source": [
    "### concatenar os dados "
   ]
  },
  {
   "cell_type": "code",
   "execution_count": 6,
   "id": "fbb4541e-4c9f-4fe7-bef6-b1c56f3c4294",
   "metadata": {},
   "outputs": [
    {
     "name": "stdout",
     "output_type": "stream",
     "text": [
      "\n",
      "--- nome_mes_selecionado => métrica\n",
      "CONCAT('Vendas do mês -',nome_mes_selecionado)\n",
      "\n",
      "\n"
     ]
    }
   ],
   "source": [
    "codigo_lookstudio=\"\"\"\n",
    "--- nome_mes_selecionado => métrica\n",
    "CONCAT('Vendas do mês -',nome_mes_selecionado)\n",
    "\n",
    "\"\"\"\n",
    "print(codigo_lookstudio)"
   ]
  },
  {
   "cell_type": "code",
   "execution_count": 7,
   "id": "b40ef9e9-2724-4266-819f-bca79c977350",
   "metadata": {},
   "outputs": [
    {
     "name": "stdout",
     "output_type": "stream",
     "text": [
      "\n",
      "--- nome_mes_selecionado => métrica\n",
      "CONCAT('HORAS NA ESTRADA -',nome_mes_selecionado)\n",
      "\n",
      "\n"
     ]
    }
   ],
   "source": [
    "\n",
    "codigo_lookstudio=\"\"\"\n",
    "--- nome_mes_selecionado => métrica\n",
    "CONCAT('HORAS NA ESTRADA -',nome_mes_selecionado)\n",
    "\n",
    "\"\"\"\n",
    "print(codigo_lookstudio)\n",
    "\n"
   ]
  },
  {
   "cell_type": "code",
   "execution_count": 8,
   "id": "1d7ef3ec-5cb9-4e37-a0e5-7967a16c9479",
   "metadata": {},
   "outputs": [
    {
     "name": "stdout",
     "output_type": "stream",
     "text": [
      "\n",
      "Ano_selecao = year(data_chegada)\n",
      "\n",
      "\n",
      "CONCAT('HORAS NA ESTRADA -',nome_mes_selecionado, '/',Ano_selecao)\n",
      "\n",
      "\n"
     ]
    }
   ],
   "source": [
    "\n",
    "codigo_lookstudio=\"\"\"\n",
    "Ano_selecao = year(data_chegada)\n",
    "\n",
    "\n",
    "CONCAT('HORAS NA ESTRADA -',nome_mes_selecionado, '/',Ano_selecao)\n",
    "\n",
    "\"\"\"\n",
    "print(codigo_lookstudio)\n"
   ]
  },
  {
   "cell_type": "markdown",
   "id": "1902dcd2-f82c-4027-b905-acda89f82607",
   "metadata": {},
   "source": [
    "Entrega plus => As entregas que a gente fez das 24, quantas tem um valor maior ou igual a 100mil. Consideraremos como uma super entrega, ou seja entrega plus.\n"
   ]
  },
  {
   "cell_type": "markdown",
   "id": "01b3f8f0-9143-4342-8d35-fde44e0856ea",
   "metadata": {},
   "source": [
    "\n",
    "\n",
    "\n",
    "Função parecida com concv, do excel\n",
    "    \n",
    "=CONVERTER(número, de_unidade, para_unidade)\n",
    "    \n",
    "=CONVERTER(10, \"km\", \"m\")\n",
    "\n",
    "Resultado: 10.000 (converte 10 quilômetros para metros)\n",
    "\n",
    "CONT.SE. No excel\n",
    "\n",
    "Para contar as entregas com valor maior ou igual a 100 mil, use a fórmula:\n",
    "\n",
    "=CONT.SE(B2:B6; \">=100000\")\n",
    "\n",
    "\n"
   ]
  },
  {
   "cell_type": "code",
   "execution_count": 9,
   "id": "87be200c-310d-42f0-97d5-15403799c38b",
   "metadata": {},
   "outputs": [
    {
     "name": "stdout",
     "output_type": "stream",
     "text": [
      "\n",
      "\n",
      "-- código de validação e filtro citado acima\n",
      "case\n",
      "\n",
      "when valor >= 100000 then 1\n",
      "else 0\n",
      "\n",
      "end\n",
      "\n",
      "\n"
     ]
    }
   ],
   "source": [
    "codigo_lookstudio=\"\"\"\n",
    "\n",
    "-- código de validação e filtro citado acima\n",
    "case\n",
    "\n",
    "when valor >= 100000 then 1\n",
    "else 0\n",
    "\n",
    "end\n",
    "\n",
    "\"\"\"\n",
    "print(codigo_lookstudio)\n"
   ]
  },
  {
   "cell_type": "markdown",
   "id": "aca18db4-c1bf-4bda-a527-5590a22f09ef",
   "metadata": {},
   "source": [
    "### Média de entregas por dia (Parâmetro, MONTH, CURRENT_DATETIME, YEAR, CASE e MAX).\n",
    "\n",
    "Média de entregas por dia, exemplo 24 entregas em janeiro de 2021 dividido por 31 dias de janeiro = 0,774193548."
   ]
  },
  {
   "cell_type": "code",
   "execution_count": 10,
   "id": "e641bad4-d6e4-4d19-8241-41d32c27a8ef",
   "metadata": {},
   "outputs": [
    {
     "name": "stdout",
     "output_type": "stream",
     "text": [
      "\n",
      "CASE\n",
      "  WHEN MONTH(data_chegada) = 1 THEN 31\n",
      "  WHEN MONTH(data_chegada) = 2 THEN 28  \n",
      "  WHEN MONTH(data_chegada) = 12 THEN 31\n",
      "  ELSE 0\n",
      "END\n",
      "\n"
     ]
    }
   ],
   "source": [
    "# Quantidade_Mes_deveria_ter\n",
    "\n",
    "codigo_lookstudio=\"\"\"\n",
    "CASE\n",
    "  WHEN MONTH(data_chegada) = 1 THEN 31\n",
    "  WHEN MONTH(data_chegada) = 2 THEN 28  \n",
    "  WHEN MONTH(data_chegada) = 12 THEN 31\n",
    "  ELSE 0\n",
    "END\n",
    "\"\"\"\n",
    "print(codigo_lookstudio)"
   ]
  },
  {
   "cell_type": "markdown",
   "id": "d6f5696e-96a2-4343-a464-e4c90970f826",
   "metadata": {},
   "source": [
    "Teste Média da entrega/ dia\n",
    "\n",
    "Record Count/COUNT(IF(MONTH(data_chegada) = 1,31, NULL))\n"
   ]
  },
  {
   "cell_type": "code",
   "execution_count": 12,
   "id": "434ead92-ed91-4c5b-a1ed-65a80d8c610a",
   "metadata": {},
   "outputs": [
    {
     "name": "stdout",
     "output_type": "stream",
     "text": [
      "\n",
      "\n",
      "\n",
      "CASE \n",
      "  WHEN MONTH(data_chegada) = 1 THEN 31\n",
      "  WHEN MONTH(data_chegada) = 2 THEN 28\n",
      "  WHEN MONTH(data_chegada) = 3 THEN 31\n",
      "  WHEN MONTH(data_chegada) = 4 THEN 30\n",
      "  WHEN MONTH(data_chegada) = 5 THEN 31\n",
      "  WHEN MONTH(data_chegada) = 6 THEN 30\n",
      "  WHEN MONTH(data_chegada) = 7 THEN 31\n",
      "  WHEN MONTH(data_chegada) = 8 THEN 31\n",
      "  WHEN MONTH(data_chegada) = 9 THEN 30\n",
      "  WHEN MONTH(data_chegada) = 10 THEN 31\n",
      "  WHEN MONTH(data_chegada) = 11 THEN 30\n",
      "  WHEN MONTH(data_chegada) = 12 THEN 31\n",
      "  ELSE NULL\n",
      "END\n",
      "\n",
      "\n"
     ]
    }
   ],
   "source": [
    "codigo_lookstudio=\"\"\"\n",
    "\n",
    "\n",
    "CASE \n",
    "  WHEN MONTH(data_chegada) = 1 THEN 31\n",
    "  WHEN MONTH(data_chegada) = 2 THEN 28\n",
    "  WHEN MONTH(data_chegada) = 3 THEN 31\n",
    "  WHEN MONTH(data_chegada) = 4 THEN 30\n",
    "  WHEN MONTH(data_chegada) = 5 THEN 31\n",
    "  WHEN MONTH(data_chegada) = 6 THEN 30\n",
    "  WHEN MONTH(data_chegada) = 7 THEN 31\n",
    "  WHEN MONTH(data_chegada) = 8 THEN 31\n",
    "  WHEN MONTH(data_chegada) = 9 THEN 30\n",
    "  WHEN MONTH(data_chegada) = 10 THEN 31\n",
    "  WHEN MONTH(data_chegada) = 11 THEN 30\n",
    "  WHEN MONTH(data_chegada) = 12 THEN 31\n",
    "  ELSE NULL\n",
    "END\n",
    "\n",
    "\"\"\"\n",
    "print(codigo_lookstudio)\n",
    "\n",
    "# sum(Quantidade_Mes_deveria_ter) ficou 744 errado\n",
    "\n",
    "\n"
   ]
  },
  {
   "cell_type": "code",
   "execution_count": 13,
   "id": "34a812de-2de7-49aa-909e-4251d71a6d9a",
   "metadata": {},
   "outputs": [
    {
     "name": "stdout",
     "output_type": "stream",
     "text": [
      "\n",
      "\n",
      "\n",
      "COUNT(DISTINCT CASE \n",
      "  WHEN MONTH(data_chegada) = 1 THEN 31\n",
      "  WHEN MONTH(data_chegada) = 2 THEN 28\n",
      "  WHEN MONTH(data_chegada) = 3 THEN 31\n",
      "  WHEN MONTH(data_chegada) = 4 THEN 30\n",
      "  WHEN MONTH(data_chegada) = 5 THEN 31\n",
      "  WHEN MONTH(data_chegada) = 6 THEN 30\n",
      "  WHEN MONTH(data_chegada) = 7 THEN 31\n",
      "  WHEN MONTH(data_chegada) = 8 THEN 31\n",
      "  WHEN MONTH(data_chegada) = 9 THEN 30\n",
      "  WHEN MONTH(data_chegada) = 10 THEN 31\n",
      "  WHEN MONTH(data_chegada) = 11 THEN 30\n",
      "  WHEN MONTH(data_chegada) = 12 THEN 31\n",
      "  ELSE NULL\n",
      "END)\n",
      "\n",
      "\n",
      "\n"
     ]
    }
   ],
   "source": [
    "## distinto_Dias_Mes_deveria_ter\n",
    "codigo_lookstudio=\"\"\"\n",
    "\n",
    "\n",
    "COUNT(DISTINCT CASE \n",
    "  WHEN MONTH(data_chegada) = 1 THEN 31\n",
    "  WHEN MONTH(data_chegada) = 2 THEN 28\n",
    "  WHEN MONTH(data_chegada) = 3 THEN 31\n",
    "  WHEN MONTH(data_chegada) = 4 THEN 30\n",
    "  WHEN MONTH(data_chegada) = 5 THEN 31\n",
    "  WHEN MONTH(data_chegada) = 6 THEN 30\n",
    "  WHEN MONTH(data_chegada) = 7 THEN 31\n",
    "  WHEN MONTH(data_chegada) = 8 THEN 31\n",
    "  WHEN MONTH(data_chegada) = 9 THEN 30\n",
    "  WHEN MONTH(data_chegada) = 10 THEN 31\n",
    "  WHEN MONTH(data_chegada) = 11 THEN 30\n",
    "  WHEN MONTH(data_chegada) = 12 THEN 31\n",
    "  ELSE NULL\n",
    "END)\n",
    "\n",
    "\n",
    "\"\"\"\n",
    "print(codigo_lookstudio)\n"
   ]
  },
  {
   "cell_type": "markdown",
   "id": "ff29064d-c38b-4557-b2e4-2ffe0ecb172e",
   "metadata": {},
   "source": [
    "## fórmula do distinct é o ideal para depois usar esse cálculo\n",
    "\n",
    "(Record Count)/distinto_Dias_Mes_deveria_ter"
   ]
  },
  {
   "cell_type": "code",
   "execution_count": 14,
   "id": "91c1a942-9e21-4697-9195-c5c7943751cd",
   "metadata": {},
   "outputs": [
    {
     "name": "stdout",
     "output_type": "stream",
     "text": [
      "\n",
      "\n",
      "\n",
      "( CASE \n",
      "  WHEN MONTH(data_chegada) = 1 THEN 31\n",
      "  WHEN MONTH(data_chegada) = 2 THEN 28\n",
      "  WHEN MONTH(data_chegada) = 3 THEN 31\n",
      "  WHEN MONTH(data_chegada) = 4 THEN 30\n",
      "  WHEN MONTH(data_chegada) = 5 THEN 31\n",
      "  WHEN MONTH(data_chegada) = 6 THEN 30\n",
      "  WHEN MONTH(data_chegada) = 7 THEN 31\n",
      "  WHEN MONTH(data_chegada) = 8 THEN 31\n",
      "  WHEN MONTH(data_chegada) = 9 THEN 30\n",
      "  WHEN MONTH(data_chegada) = 10 THEN 31\n",
      "  WHEN MONTH(data_chegada) = 11 THEN 30\n",
      "  WHEN MONTH(data_chegada) = 12 THEN 31\n",
      "  ELSE NULL\n",
      "END )\n",
      "\n",
      "\n",
      "\n"
     ]
    }
   ],
   "source": [
    "\n",
    "#quantidade_valer_atual_mes\n",
    "\n",
    "codigo_lookstudio=\"\"\"\n",
    "\n",
    "\n",
    "( CASE \n",
    "  WHEN MONTH(data_chegada) = 1 THEN 31\n",
    "  WHEN MONTH(data_chegada) = 2 THEN 28\n",
    "  WHEN MONTH(data_chegada) = 3 THEN 31\n",
    "  WHEN MONTH(data_chegada) = 4 THEN 30\n",
    "  WHEN MONTH(data_chegada) = 5 THEN 31\n",
    "  WHEN MONTH(data_chegada) = 6 THEN 30\n",
    "  WHEN MONTH(data_chegada) = 7 THEN 31\n",
    "  WHEN MONTH(data_chegada) = 8 THEN 31\n",
    "  WHEN MONTH(data_chegada) = 9 THEN 30\n",
    "  WHEN MONTH(data_chegada) = 10 THEN 31\n",
    "  WHEN MONTH(data_chegada) = 11 THEN 30\n",
    "  WHEN MONTH(data_chegada) = 12 THEN 31\n",
    "  ELSE NULL\n",
    "END )\n",
    "\n",
    "\n",
    "\"\"\"\n",
    "print(codigo_lookstudio)\n",
    "\n"
   ]
  },
  {
   "cell_type": "markdown",
   "id": "f21afc9a-d052-41d3-8d9a-3f83031f520a",
   "metadata": {},
   "source": [
    "# ideal cálculo\n",
    "\n",
    "## Record Count/Max(quantidade_valer_atual_mes)"
   ]
  },
  {
   "cell_type": "markdown",
   "id": "cb9ade5e-d7e3-4518-b005-083ca916146e",
   "metadata": {},
   "source": [
    "### Mês atual\n",
    "\n",
    "\n",
    "MONTH(CURRENT_DATETIME(\"America/Sao_Paulo\"))\n",
    "\n",
    "\n",
    "## data atual corrente\n",
    "\n",
    "CURRENT_DATETIME(\"America/Sao_Paulo\")\n",
    "\n",
    "\n",
    "## ano corrente\n",
    "\n",
    "year(CURRENT_DATETIME(\"America/Sao_Paulo\"))"
   ]
  },
  {
   "cell_type": "code",
   "execution_count": 15,
   "id": "0b31d166-a617-4f78-ab02-ab89e6515fdb",
   "metadata": {},
   "outputs": [
    {
     "name": "stdout",
     "output_type": "stream",
     "text": [
      "\n",
      "\n",
      "\n",
      "CASE\n",
      "WHEN MES_ATUAL = 1 THEN 31\n",
      "WHEN MES_ATUAL = 2 AND ANO_ATUAL IN (2020,2024,2028) THEN 29 \n",
      "WHEN MES_ATUAL = 2 THEN 28\n",
      "WHEN MES_ATUAL = 3 THEN 31\n",
      "WHEN MES_ATUAL = 4 THEN 30\n",
      "WHEN MES_ATUAL = 5 THEN 31\n",
      "WHEN MES_ATUAL= 6 THEN 30\n",
      "WHEN MES_ATUAL = 7 THEN 31\n",
      "WHEN MES_ATUAL = 8 THEN 31\n",
      "WHEN MES_ATUAL = 9 THEN 30\n",
      "WHEN MES_ATUAL= 10 THEN 31\n",
      "WHEN MES_ATUAL= 11 THEN 30\n",
      "WHEN MES_ATUAL= 12 THEN 31\n",
      "ELSE NULL\n",
      "END \n",
      "\n",
      "\n"
     ]
    }
   ],
   "source": [
    "# Dia para analisar\n",
    "codigo_lookstudio=\"\"\"\n",
    "\n",
    "\n",
    "CASE\n",
    "WHEN MES_ATUAL = 1 THEN 31\n",
    "WHEN MES_ATUAL = 2 AND ANO_ATUAL IN (2020,2024,2028) THEN 29 \n",
    "WHEN MES_ATUAL = 2 THEN 28\n",
    "WHEN MES_ATUAL = 3 THEN 31\n",
    "WHEN MES_ATUAL = 4 THEN 30\n",
    "WHEN MES_ATUAL = 5 THEN 31\n",
    "WHEN MES_ATUAL= 6 THEN 30\n",
    "WHEN MES_ATUAL = 7 THEN 31\n",
    "WHEN MES_ATUAL = 8 THEN 31\n",
    "WHEN MES_ATUAL = 9 THEN 30\n",
    "WHEN MES_ATUAL= 10 THEN 31\n",
    "WHEN MES_ATUAL= 11 THEN 30\n",
    "WHEN MES_ATUAL= 12 THEN 31\n",
    "ELSE NULL\n",
    "END \n",
    "\n",
    "\"\"\"\n",
    "print(codigo_lookstudio)\n"
   ]
  },
  {
   "cell_type": "code",
   "execution_count": 17,
   "id": "22fed969-e856-49f1-ab35-4d7b35a6a35f",
   "metadata": {},
   "outputs": [
    {
     "name": "stdout",
     "output_type": "stream",
     "text": [
      "\n",
      "\n",
      "( CASE \n",
      "  WHEN MONTH(data_chegada) = 1 THEN 31\n",
      "  WHEN MONTH(data_chegada) = 2 and YEAR(data_chegada) IN (2020,2024,2028) THEN 29  \n",
      "  WHEN MONTH(data_chegada) = 2 THEN 28\n",
      "  WHEN MONTH(data_chegada) = 3 THEN 31\n",
      "  WHEN MONTH(data_chegada) = 4 THEN 30\n",
      "  WHEN MONTH(data_chegada) = 5 THEN 31\n",
      "  WHEN MONTH(data_chegada) = 6 THEN 30\n",
      "  WHEN MONTH(data_chegada) = 7 THEN 31\n",
      "  WHEN MONTH(data_chegada) = 8 THEN 31\n",
      "  WHEN MONTH(data_chegada) = 9 THEN 30\n",
      "  WHEN MONTH(data_chegada) = 10 THEN 31\n",
      "  WHEN MONTH(data_chegada) = 11 THEN 30\n",
      "  WHEN MONTH(data_chegada) = 12 THEN 31\n",
      "  ELSE NULL\n",
      "END )\n",
      "\n",
      "\n",
      "\n"
     ]
    }
   ],
   "source": [
    "# mês checado a quantidade de dias, forma correta\n",
    "\n",
    "# Ajustado os anos bissextos.\n",
    "codigo_lookstudio=\"\"\"\n",
    "\n",
    "( CASE \n",
    "  WHEN MONTH(data_chegada) = 1 THEN 31\n",
    "  WHEN MONTH(data_chegada) = 2 and YEAR(data_chegada) IN (2020,2024,2028) THEN 29  \n",
    "  WHEN MONTH(data_chegada) = 2 THEN 28\n",
    "  WHEN MONTH(data_chegada) = 3 THEN 31\n",
    "  WHEN MONTH(data_chegada) = 4 THEN 30\n",
    "  WHEN MONTH(data_chegada) = 5 THEN 31\n",
    "  WHEN MONTH(data_chegada) = 6 THEN 30\n",
    "  WHEN MONTH(data_chegada) = 7 THEN 31\n",
    "  WHEN MONTH(data_chegada) = 8 THEN 31\n",
    "  WHEN MONTH(data_chegada) = 9 THEN 30\n",
    "  WHEN MONTH(data_chegada) = 10 THEN 31\n",
    "  WHEN MONTH(data_chegada) = 11 THEN 30\n",
    "  WHEN MONTH(data_chegada) = 12 THEN 31\n",
    "  ELSE NULL\n",
    "END )\n",
    "\n",
    "\n",
    "\"\"\"\n",
    "print(codigo_lookstudio)\n"
   ]
  },
  {
   "cell_type": "markdown",
   "id": "bf914191-a23b-40e2-8c0d-d7c96f9cf6e4",
   "metadata": {},
   "source": [
    "## Método 3 (média/dias)\n",
    "\n",
    "Record Count/max(Valendo_Mes_ATUAL)\n",
    "\n",
    "\n",
    "\n",
    "Correção\n",
    "\n",
    "### DATA_ATUAL_ESCRITO\n",
    "\n",
    "FORMAT_DATETIME(\"%d/%m/%Y\", CURRENT_DATETIME(\"America/Sao_Paulo\"))\n",
    "\n",
    "##### FORMAT_DATETIME(\"%d/%m/%Y %H:%M:%S\", CURRENT_DATETIME(\"America/Sao_Paulo\"))\n"
   ]
  },
  {
   "cell_type": "markdown",
   "id": "a74cec52-960f-4478-9d4d-7793751ef620",
   "metadata": {},
   "source": [
    "\n",
    "\n",
    "\n",
    "#----------------------------------------------------------------------------------------------------------------------\n",
    "\n",
    "site para armazenar figuras na internet gratuitamente => postimages.org;\n",
    "\n",
    "https://postimages.org/#google_vignette"
   ]
  },
  {
   "cell_type": "markdown",
   "id": "82d720c4-add5-48ca-bcb8-6e0a67f7b1d0",
   "metadata": {},
   "source": [
    "### juntar foto no link, sempre de dentro para fora\n",
    "\n",
    "imagem é o IMAGE\n",
    "\n",
    "## HYERLINK(URL,Link Label)"
   ]
  },
  {
   "cell_type": "markdown",
   "id": "9d536af0-c094-4d60-8558-ae23a2c484f2",
   "metadata": {},
   "source": [
    "\n",
    "métricas: ficha (link site que cliclamos no dashboard e abre o link) e foto (link salvo apenas a foto que fica dentro do lookerstudio\n",
    "\n",
    "\n",
    "HYPERLINK(ficha,IMAGE(foto))"
   ]
  },
  {
   "cell_type": "code",
   "execution_count": 18,
   "id": "6485d8a4-4ce8-4c93-b702-602b87aab238",
   "metadata": {},
   "outputs": [
    {
     "name": "stdout",
     "output_type": "stream",
     "text": [
      "\n",
      "\n",
      "--- Nome + Entregas\n",
      "--- dimensções: nome e Record Count\n",
      "CONCAT(nome,'[', Record Count, ' ]')\n",
      "\n",
      "\n",
      "\n"
     ]
    }
   ],
   "source": [
    "# concatenar os dados\n",
    "\n",
    "codigo_lookstudio=\"\"\"\n",
    "\n",
    "--- Nome + Entregas\n",
    "--- dimensções: nome e Record Count\n",
    "CONCAT(nome,'[', Record Count, ' ]')\n",
    "\n",
    "\n",
    "\"\"\"\n",
    "print(codigo_lookstudio)"
   ]
  },
  {
   "cell_type": "markdown",
   "id": "91a8165c-af42-440f-8da2-390875da8448",
   "metadata": {},
   "source": [
    "###  Convertendo hora completa em segundos (SUM, SUBSTR e CAST)\n",
    "\n",
    "\n",
    "\n",
    "\n",
    "saída pelo excel \n",
    "\n",
    "hora_saida => hour(E2)*3600\n",
    "\n",
    "em português\n",
    "\n",
    "=HORA(E2)*3600\n",
    "\n",
    "\n",
    "1minuto tem 60segundos\n",
    "\n",
    "1 hora tem 3600 segundos (60*60)\n",
    "\n",
    "hora_saida => hour(E2)*3600 +minute(E2)\n",
    "\n",
    "\n",
    "fórmula completa: hora_saida => hour(E2)*3600 +minute(E2)*60+second(E2)\n",
    "\n",
    "em português: =HORA(E2)*3600+MINUTO(E2)*60+SEGUNDO(E2)\n",
    "\n",
    "\n"
   ]
  },
  {
   "cell_type": "markdown",
   "id": "014205f0-9fe4-4adc-8d9c-fdf8aa22ff90",
   "metadata": {},
   "source": [
    "\n",
    "------------------------------------------------\n",
    "##### SUBSTR(Field Or Expr, Start Index, Length)\n",
    "\n",
    "#### SUM((CAST(SUBSTR(hora_saida,1,2) as NUMBER)*3600) + (CAST(SUBSTR(hora_saida, 4,2) as NUMBER)*60) + (CAST(SUBSTR(hora_saida, 7,2) as NUMBER)))"
   ]
  },
  {
   "cell_type": "markdown",
   "id": "9ca9d215-b5f4-4a7c-b1c4-0d162cacf64f",
   "metadata": {},
   "source": [
    "\n",
    "--------------------------------------------\n",
    "SUBSTR(Field Or Expr, Start Index, Length\n",
    "\n",
    "SUBSTR remover uma parte de um texto. \n",
    "    \n",
    "--------------------------------------------\n",
    "hora_saida '20:00:00' ou '16:45:00'\n",
    "\n",
    "hora_saida completa\n",
    "\n",
    "quero 2 caracteres começando no primeiro \n",
    "\n",
    "CAST transforma o texto como número  +\n",
    "\n",
    "quero 2 caracteres começando na letra 4 (o mínuto é o quarto (4°) e o quinto (5°) caracter)\n",
    "\n",
    "CAST transforma o texto como número\n",
    "\n",
    "--------------------------------------------\n",
    "o segundo é o último item que estão nos caracteres 7° e 8°)\n",
    "\n",
    "--------------------------------------------\n",
    "colocamos toda a fórmula dentro de uma soma\n",
    "\n",
    "que está dentro de um valor agregado. \n"
   ]
  },
  {
   "cell_type": "markdown",
   "id": "78249b3c-eadc-45fa-aa0f-6789582b8b93",
   "metadata": {},
   "source": [
    "\n",
    "- dimensão hora_saida, colocar tudo em segundos\n",
    "- \n",
    "SUM((CAST(SUBSTR(hora_saida,1,2) as NUMBER)*3600) + (CAST(SUBSTR(hora_saida, 4,2) as NUMBER)*60) + (CAST(SUBSTR(hora_saida, 7,2) as NUMBER)))\n"
   ]
  },
  {
   "cell_type": "markdown",
   "id": "a779413d-635a-4427-a5a7-72e9d822aa76",
   "metadata": {},
   "source": [
    "<span style=\"color:red;\">' || \n",
    "    SUM((CAST(SUBSTR(hora_chegada,1,2) AS NUMBER) * 3600) + \n",
    "        (CAST(SUBSTR(hora_chegada, 4,2) AS NUMBER) * 60) + \n",
    "        (CAST(SUBSTR(hora_chegada, 7,2) AS NUMBER))) \n",
    "    || '</span>\n"
   ]
  },
  {
   "cell_type": "markdown",
   "id": "4ca8429a-292f-47e3-8f7b-9e9b630a0550",
   "metadata": {},
   "source": [
    "## Jornada- Calculando os dias datas (SUM, CAST e DATE_DIFF). \n",
    "\n",
    "Calcular a jornada final precisamos ir na fonte de dados:\n",
    "\n",
    "Fazer o novo cálculo:\n",
    "\n",
    "### SUM(CAST((DATE_DIFF(data_chegada, data_saida)) as number))\n",
    "\n",
    "\n",
    "DATE_DIFF cálcula a diferença entre dias de duas datas, como no exemplo acima na fórmula. \n",
    "\n",
    "Já a CAST é para transformar o resultado da função em número. \n",
    "\n",
    "Lembrando que a  data_chegada e data_saida são dimensões.\n",
    "    \n",
    "Em seguida vamos transformar o resultado da fórmula final acima em métrica. \n",
    "\n",
    "Vamos agregar no final por soma sum()\n"
   ]
  },
  {
   "cell_type": "markdown",
   "id": "bc631eeb-4e41-4fc0-898f-7364fc121a0c",
   "metadata": {},
   "source": [
    "## SUM(CAST((DATE_DIFF(data_chegada, data_saida)) as number))\n",
    "\n",
    "dimensões data_chegada e data_saida\n",
    "\n",
    "\n",
    "Agora temos 3 colunas importantes Hora_saida_segundos, hora_chegada_segundos e Dias, para calcular a duração em jornadas de maneira correta. "
   ]
  },
  {
   "cell_type": "markdown",
   "id": "b023b9a7-8214-45bb-8680-eee7fdffb888",
   "metadata": {},
   "source": [
    "\n",
    "\n",
    "\n",
    "1 dia = 86.400 segundos ou 24 horas\n",
    "\n",
    " ou 24 horas + (-6) = 24-6= 18 horas\n",
    "\n",
    "\n",
    " Ou seja, 60*60*24 =86.400\n",
    "\n",
    "Nossa fórmula universal\n",
    "\n",
    "No datastudio vou criar o cálculo da jornada universal, ou seja, sua duração:\n",
    "\n",
    "Dias * 86400 + hora_chegada_segundos - hora_saida_segundos\n",
    "\n",
    "\n"
   ]
  },
  {
   "cell_type": "markdown",
   "id": "5213db6c-1b7d-4ec7-9200-b18fd285bdc9",
   "metadata": {},
   "source": [
    "ou seja jornada em s(segundos) (1min/60s)(1h/60min)(1dia/24h)\n",
    "\n",
    "60×60×24= 86400\n",
    "\n",
    "Dias = jornada_oficial/86400\n",
    "\n",
    "(60×60×24)\n"
   ]
  },
  {
   "cell_type": "markdown",
   "id": "36de0358-7ab0-47a8-9825-913f3a125a69",
   "metadata": {},
   "source": [
    "### Ideal sempre colocar o nome da cidade com o traço e a sigla na frente. \n",
    "\n",
    "\n",
    "Campo de apresentação, usando SUBSTR(), que extrai um pedaço de um texto. \n",
    "\n",
    "O texto é o nosso destno\n",
    "\n",
    "quero extrair a partir do sexto caracter, \n",
    "\n",
    "vai extrair do 6 para frente (100)\n",
    "Cidade\n",
    "\n",
    "SUBSTR(destino,6,100)\n",
    "\n",
    "\n",
    "MG - Cidade\n",
    "123456\n",
    "começa no 6 a escrever a cidade. \n",
    "\n",
    "Ir na dica e extrair o nome de interesse:\n"
   ]
  },
  {
   "cell_type": "markdown",
   "id": "f024b359-d6ab-45ab-bd46-bc11e4b179f4",
   "metadata": {},
   "source": [
    "\n",
    "\n",
    "### tirar a expressão regular\n",
    "\n",
    "REGEXP_EXTRACT(destino,'- (.*?)$')\n",
    "\n",
    "No Backup irei testar a extração avançada."
   ]
  },
  {
   "cell_type": "markdown",
   "id": "a7903fd0-3011-4fcf-be75-be6e12500a78",
   "metadata": {},
   "source": [
    "### Expressão regular => REGEXP_EXTRACT(destino,'- (.*?)$')\n",
    "\n",
    "padrão - e espaço, e a partir daqui que vamos agir. Agrupamento depois do espaço (.*?)  isso para coletar os dados. \n",
    "\n",
    "No final não importa o final e a quantidade no final ‘*?’. \n",
    "\n",
    "\n",
    "\n",
    "https://learn.microsoft.com/pt-br/azure/databricks/sql/language-manual/functions/regexp_extract\n",
    "\n",
    "https://cloud.google.com/looker/docs/studio/regexpextract?hl=pt-br\n",
    "\n",
    "https://cloud.google.com/looker/docs/studio/regular-expressions-in-looker-studio?hl=pt-br\n",
    "\n",
    "base para manipular o texto o REGEXP\n",
    "\n",
    "REGEXP_CONTAINS\tRetorna verdadeiro se o valor de entrada contém o padrão de expressão regular. Caso contrário, retorna falso.\n",
    "    \n",
    "Saiba mais sobre REGEXP_CONTAINS.\n",
    "REGEXP_EXTRACT\tRetorna a primeira substring no valor de entrada que corresponde ao padrão de expressão regular.\n",
    "\n",
    "Saiba mais sobre REGEXP_EXTRACT.\n",
    "\n",
    "REGEXP_MATCH\tRetorna verdadeiro se o valor de entrada corresponde ao padrão de expressão regular. Caso contrário, retorna falso.\n",
    "\n",
    "Saiba mais sobre REGEXP_MATCH.\n",
    "\n",
    "EGEXP_REPLACE\tSubstitui todas as ocorrências de texto correspondentes ao padrão de expressão regular no valor de entrada pela string replacement.\n",
    "\n",
    "Saiba mais sobre EGEXP_REPLACE."
   ]
  },
  {
   "cell_type": "code",
   "execution_count": null,
   "id": "d885f997-cb97-4e48-9526-a91b897fcf03",
   "metadata": {},
   "outputs": [],
   "source": []
  },
  {
   "cell_type": "code",
   "execution_count": null,
   "id": "e7988905-5b9e-4127-8af1-5447b6d0bb22",
   "metadata": {},
   "outputs": [],
   "source": []
  }
 ],
 "metadata": {
  "kernelspec": {
   "display_name": "Python 3 (ipykernel)",
   "language": "python",
   "name": "python3"
  },
  "language_info": {
   "codemirror_mode": {
    "name": "ipython",
    "version": 3
   },
   "file_extension": ".py",
   "mimetype": "text/x-python",
   "name": "python",
   "nbconvert_exporter": "python",
   "pygments_lexer": "ipython3",
   "version": "3.12.8"
  }
 },
 "nbformat": 4,
 "nbformat_minor": 5
}
